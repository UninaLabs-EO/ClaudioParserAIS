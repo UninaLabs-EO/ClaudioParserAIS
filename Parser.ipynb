{
 "cells": [
  {
   "cell_type": "code",
   "execution_count": 1,
   "metadata": {},
   "outputs": [],
   "source": [
    "import pandas as pd\n",
    "import geopandas as gpd\n",
    "import os\n",
    "\n",
    "from utils import AIS2ESRI"
   ]
  },
  {
   "cell_type": "markdown",
   "metadata": {},
   "source": [
    "### Execution:"
   ]
  },
  {
   "cell_type": "code",
   "execution_count": 2,
   "metadata": {},
   "outputs": [],
   "source": [
    "filepath = 'Input\\\\aisdk-2022-03-01.csv'\n",
    "df = pd.read_csv(filepath)\n",
    "# df.head(300) # Mostriamo i primi 3 righi\n",
    "# df[df['# Timestamp']> '01/03/2022 00:00:00']"
   ]
  },
  {
   "cell_type": "code",
   "execution_count": 16,
   "metadata": {},
   "outputs": [],
   "source": [
    "# FILTRO SPAZIALE\n",
    "df = df[(df['Latitude'] < 55.0) & (df['Latitude'] > 54.0)] \n",
    "df = df[(df['Longitude'] < 9.0) & (df['Longitude'] > 8.0)]\n",
    "# df.head(1)"
   ]
  },
  {
   "cell_type": "code",
   "execution_count": null,
   "metadata": {},
   "outputs": [],
   "source": [
    "foldName = filepath.split('\\\\')[-1].split('.')[0]\n",
    "# FILTRO TEMPORALE:\n",
    "esri = AIS2ESRI(ais=df, outputFolder=f'Ouput\\{foldName}', Timeframe=['01/03/2022 00:00:00', '01/03/2022 00:02:00'])"
   ]
  },
  {
   "cell_type": "code",
   "execution_count": null,
   "metadata": {},
   "outputs": [],
   "source": [
    "esri"
   ]
  },
  {
   "cell_type": "code",
   "execution_count": null,
   "metadata": {},
   "outputs": [],
   "source": [
    "# FILTRO MMSI:\n",
    "df[df['MMSI'] == '636020350']\n",
    "\n"
   ]
  }
 ],
 "metadata": {
  "interpreter": {
   "hash": "7c234e95cd380cb6b17607804009528e4080ef2c6ce375c5ac52911080797c60"
  },
  "kernelspec": {
   "display_name": "Python 3.9.6 ('aisdecoder')",
   "language": "python",
   "name": "python3"
  },
  "language_info": {
   "codemirror_mode": {
    "name": "ipython",
    "version": 3
   },
   "file_extension": ".py",
   "mimetype": "text/x-python",
   "name": "python",
   "nbconvert_exporter": "python",
   "pygments_lexer": "ipython3",
   "version": "3.9.6"
  },
  "orig_nbformat": 4
 },
 "nbformat": 4,
 "nbformat_minor": 2
}
