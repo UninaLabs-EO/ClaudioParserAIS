{
  "cells": [
    {
      "cell_type": "markdown",
      "metadata": {
        "id": "view-in-github",
        "colab_type": "text"
      },
      "source": [
        "<a href=\"https://colab.research.google.com/github/UninaLabs-EO/ClaudioParserAIS/blob/master/ICEVISION_v2_rdp.ipynb\" target=\"_parent\"><img src=\"https://colab.research.google.com/assets/colab-badge.svg\" alt=\"Open In Colab\"/></a>"
      ]
    },
    {
      "cell_type": "code",
      "execution_count": 1,
      "metadata": {
        "colab": {
          "base_uri": "https://localhost:8080/"
        },
        "id": "UBketpJhEq7h",
        "outputId": "171562f0-47b7-41bc-cc0c-dd0cdb1e8d77"
      },
      "outputs": [
        {
          "output_type": "stream",
          "name": "stdout",
          "text": [
            "--2022-07-01 12:52:41--  https://raw.githubusercontent.com/airctic/icevision/master/icevision_install.sh\n",
            "Resolving raw.githubusercontent.com (raw.githubusercontent.com)... 185.199.108.133, 185.199.109.133, 185.199.110.133, ...\n",
            "Connecting to raw.githubusercontent.com (raw.githubusercontent.com)|185.199.108.133|:443... connected.\n",
            "HTTP request sent, awaiting response... 200 OK\n",
            "Length: 2766 (2.7K) [text/plain]\n",
            "Saving to: ‘icevision_install.sh’\n",
            "\n",
            "icevision_install.s 100%[===================>]   2.70K  --.-KB/s    in 0s      \n",
            "\n",
            "2022-07-01 12:52:42 (42.0 MB/s) - ‘icevision_install.sh’ saved [2766/2766]\n",
            "\n",
            "Installing icevision + dependencices for cuda11\n",
            "- Installing torch and its dependencies\n",
            "Looking in indexes: https://pypi.org/simple, https://us-python.pkg.dev/colab-wheels/public/simple/\n",
            "Looking in links: https://download.pytorch.org/whl/torch_stable.html\n",
            "Collecting torch==1.10.0+cu111\n",
            "  Downloading https://download.pytorch.org/whl/cu111/torch-1.10.0%2Bcu111-cp37-cp37m-linux_x86_64.whl (2137.6 MB)\n",
            "\u001b[K     |████████████▌                   | 834.1 MB 1.3 MB/s eta 0:16:51tcmalloc: large alloc 1147494400 bytes == 0x390c4000 @  0x7efd9130f615 0x592b76 0x4df71e 0x59afff 0x515655 0x549576 0x593fce 0x548ae9 0x51566f 0x549576 0x593fce 0x548ae9 0x5127f1 0x598e3b 0x511f68 0x598e3b 0x511f68 0x598e3b 0x511f68 0x4bc98a 0x532e76 0x594b72 0x515600 0x549576 0x593fce 0x548ae9 0x5127f1 0x549576 0x593fce 0x5118f8 0x593dd7\n",
            "\u001b[K     |███████████████▉                | 1055.7 MB 1.3 MB/s eta 0:14:10tcmalloc: large alloc 1434370048 bytes == 0x7d71a000 @  0x7efd9130f615 0x592b76 0x4df71e 0x59afff 0x515655 0x549576 0x593fce 0x548ae9 0x51566f 0x549576 0x593fce 0x548ae9 0x5127f1 0x598e3b 0x511f68 0x598e3b 0x511f68 0x598e3b 0x511f68 0x4bc98a 0x532e76 0x594b72 0x515600 0x549576 0x593fce 0x548ae9 0x5127f1 0x549576 0x593fce 0x5118f8 0x593dd7\n",
            "\u001b[K     |████████████████████            | 1336.2 MB 1.2 MB/s eta 0:10:53tcmalloc: large alloc 1792966656 bytes == 0x254c000 @  0x7efd9130f615 0x592b76 0x4df71e 0x59afff 0x515655 0x549576 0x593fce 0x548ae9 0x51566f 0x549576 0x593fce 0x548ae9 0x5127f1 0x598e3b 0x511f68 0x598e3b 0x511f68 0x598e3b 0x511f68 0x4bc98a 0x532e76 0x594b72 0x515600 0x549576 0x593fce 0x548ae9 0x5127f1 0x549576 0x593fce 0x5118f8 0x593dd7\n",
            "\u001b[K     |█████████████████████████▎      | 1691.1 MB 1.3 MB/s eta 0:05:45tcmalloc: large alloc 2241208320 bytes == 0x6d334000 @  0x7efd9130f615 0x592b76 0x4df71e 0x59afff 0x515655 0x549576 0x593fce 0x548ae9 0x51566f 0x549576 0x593fce 0x548ae9 0x5127f1 0x598e3b 0x511f68 0x598e3b 0x511f68 0x598e3b 0x511f68 0x4bc98a 0x532e76 0x594b72 0x515600 0x549576 0x593fce 0x548ae9 0x5127f1 0x549576 0x593fce 0x5118f8 0x593dd7\n",
            "\u001b[K     |████████████████████████████████| 2137.6 MB 1.2 MB/s eta 0:00:01tcmalloc: large alloc 2137645056 bytes == 0xf2c96000 @  0x7efd9130e1e7 0x4a3940 0x4a39cc 0x592b76 0x4df71e 0x59afff 0x515655 0x549576 0x593fce 0x511e2c 0x549576 0x593fce 0x511e2c 0x549576 0x593fce 0x511e2c 0x549576 0x593fce 0x511e2c 0x549576 0x593fce 0x511e2c 0x593dd7 0x511e2c 0x549576 0x593fce 0x548ae9 0x5127f1 0x549576 0x593fce 0x548ae9\n",
            "tcmalloc: large alloc 2672058368 bytes == 0x172334000 @  0x7efd9130f615 0x592b76 0x4df71e 0x59afff 0x515655 0x549576 0x593fce 0x511e2c 0x549576 0x593fce 0x511e2c 0x549576 0x593fce 0x511e2c 0x549576 0x593fce 0x511e2c 0x549576 0x593fce 0x511e2c 0x593dd7 0x511e2c 0x549576 0x593fce 0x548ae9 0x5127f1 0x549576 0x593fce 0x548ae9 0x5127f1 0x549576\n",
            "\u001b[K     |████████████████████████████████| 2137.6 MB 396 bytes/s \n",
            "\u001b[?25hCollecting torchvision==0.11.1+cu111\n",
            "  Downloading https://download.pytorch.org/whl/cu111/torchvision-0.11.1%2Bcu111-cp37-cp37m-linux_x86_64.whl (24.5 MB)\n",
            "\u001b[K     |████████████████████████████████| 24.5 MB 2.0 MB/s \n",
            "\u001b[?25hRequirement already satisfied: typing-extensions in /usr/local/lib/python3.7/dist-packages (from torch==1.10.0+cu111) (4.1.1)\n",
            "Requirement already satisfied: numpy in /usr/local/lib/python3.7/dist-packages (from torchvision==0.11.1+cu111) (1.21.6)\n",
            "Requirement already satisfied: pillow!=8.3.0,>=5.3.0 in /usr/local/lib/python3.7/dist-packages (from torchvision==0.11.1+cu111) (7.1.2)\n",
            "Installing collected packages: torch, torchvision\n",
            "  Attempting uninstall: torch\n",
            "    Found existing installation: torch 1.11.0+cu113\n",
            "    Uninstalling torch-1.11.0+cu113:\n",
            "      Successfully uninstalled torch-1.11.0+cu113\n",
            "  Attempting uninstall: torchvision\n",
            "    Found existing installation: torchvision 0.12.0+cu113\n",
            "    Uninstalling torchvision-0.12.0+cu113:\n",
            "      Successfully uninstalled torchvision-0.12.0+cu113\n",
            "\u001b[31mERROR: pip's dependency resolver does not currently take into account all the packages that are installed. This behaviour is the source of the following dependency conflicts.\n",
            "torchtext 0.12.0 requires torch==1.11.0, but you have torch 1.10.0+cu111 which is incompatible.\n",
            "torchaudio 0.11.0+cu113 requires torch==1.11.0, but you have torch 1.10.0+cu111 which is incompatible.\u001b[0m\n",
            "Successfully installed torch-1.10.0+cu111 torchvision-0.11.1+cu111\n",
            "- Installing mmcv\n",
            "\u001b[K     |████████████████████████████████| 51.3 MB 338 kB/s \n",
            "\u001b[K     |████████████████████████████████| 190 kB 31.8 MB/s \n",
            "\u001b[?25h- Installing mmdet\n",
            "\u001b[K     |████████████████████████████████| 1.2 MB 37.0 MB/s \n",
            "\u001b[?25h- Installing mmseg\n",
            "\u001b[K     |████████████████████████████████| 686 kB 26.2 MB/s \n",
            "\u001b[?25h- Installing icevision from PyPi\n",
            "\u001b[K     |████████████████████████████████| 262 kB 32.6 MB/s \n",
            "\u001b[K     |████████████████████████████████| 49 kB 5.6 MB/s \n",
            "\u001b[K     |████████████████████████████████| 95 kB 4.0 MB/s \n",
            "\u001b[K     |████████████████████████████████| 58 kB 6.9 MB/s \n",
            "\u001b[K     |████████████████████████████████| 111 kB 55.5 MB/s \n",
            "\u001b[K     |████████████████████████████████| 3.1 MB 47.3 MB/s \n",
            "\u001b[K     |████████████████████████████████| 798 kB 63.3 MB/s \n",
            "\u001b[K     |████████████████████████████████| 55 kB 4.7 MB/s \n",
            "\u001b[K     |████████████████████████████████| 98 kB 10.0 MB/s \n",
            "\u001b[K     |████████████████████████████████| 188 kB 71.0 MB/s \n",
            "\u001b[K     |████████████████████████████████| 585 kB 68.4 MB/s \n",
            "\u001b[K     |████████████████████████████████| 1.8 MB 55.9 MB/s \n",
            "\u001b[K     |████████████████████████████████| 48.3 MB 1.5 MB/s \n",
            "\u001b[K     |████████████████████████████████| 79 kB 8.7 MB/s \n",
            "\u001b[K     |████████████████████████████████| 431 kB 49.1 MB/s \n",
            "\u001b[K     |████████████████████████████████| 117 kB 75.1 MB/s \n",
            "\u001b[K     |████████████████████████████████| 596 kB 61.2 MB/s \n",
            "\u001b[K     |████████████████████████████████| 419 kB 74.5 MB/s \n",
            "\u001b[K     |████████████████████████████████| 140 kB 73.4 MB/s \n",
            "\u001b[K     |████████████████████████████████| 1.1 MB 59.6 MB/s \n",
            "\u001b[K     |████████████████████████████████| 154 kB 75.8 MB/s \n",
            "\u001b[K     |████████████████████████████████| 50 kB 7.7 MB/s \n",
            "\u001b[K     |████████████████████████████████| 97 kB 8.0 MB/s \n",
            "\u001b[K     |████████████████████████████████| 87 kB 6.6 MB/s \n",
            "\u001b[K     |████████████████████████████████| 60.9 MB 1.2 MB/s \n",
            "\u001b[K     |████████████████████████████████| 181 kB 41.7 MB/s \n",
            "\u001b[K     |████████████████████████████████| 145 kB 63.4 MB/s \n",
            "\u001b[K     |████████████████████████████████| 63 kB 2.0 MB/s \n",
            "\u001b[K     |████████████████████████████████| 144 kB 14.8 MB/s \n",
            "\u001b[K     |████████████████████████████████| 94 kB 3.5 MB/s \n",
            "\u001b[K     |████████████████████████████████| 271 kB 14.6 MB/s \n",
            "\u001b[?25h  Building wheel for antlr4-python3-runtime (setup.py) ... \u001b[?25l\u001b[?25hdone\n",
            "  Building wheel for fire (setup.py) ... \u001b[?25l\u001b[?25hdone\n",
            "  Building wheel for fvcore (setup.py) ... \u001b[?25l\u001b[?25hdone\n",
            "  Building wheel for pathtools (setup.py) ... \u001b[?25l\u001b[?25hdone\n",
            "\u001b[31mERROR: pip's dependency resolver does not currently take into account all the packages that are installed. This behaviour is the source of the following dependency conflicts.\n",
            "flask 1.1.4 requires click<8.0,>=5.1, but you have click 8.0.4 which is incompatible.\u001b[0m\n",
            "- Installing icedata from PyPi\n",
            "Looking in indexes: https://pypi.org/simple, https://us-python.pkg.dev/colab-wheels/public/simple/\n",
            "Collecting opencv-python-headless==4.1.2.30\n",
            "  Downloading opencv_python_headless-4.1.2.30-cp37-cp37m-manylinux1_x86_64.whl (21.8 MB)\n",
            "\u001b[K     |████████████████████████████████| 21.8 MB 111.6 MB/s \n",
            "\u001b[?25hRequirement already satisfied: numpy>=1.14.5 in /usr/local/lib/python3.7/dist-packages (from opencv-python-headless==4.1.2.30) (1.21.6)\n",
            "Installing collected packages: opencv-python-headless\n",
            "  Attempting uninstall: opencv-python-headless\n",
            "    Found existing installation: opencv-python-headless 4.6.0.66\n",
            "    Uninstalling opencv-python-headless-4.6.0.66:\n",
            "      Successfully uninstalled opencv-python-headless-4.6.0.66\n",
            "Successfully installed opencv-python-headless-4.1.2.30\n",
            "icevision installation finished!\n"
          ]
        }
      ],
      "source": [
        "# Torch - Torchvision - IceVision - IceData - MMDetection - YOLOv5 - EfficientDet Installation\n",
        "!wget https://raw.githubusercontent.com/airctic/icevision/master/icevision_install.sh\n",
        "\n",
        "# Choose your installation target: cuda11 or cuda10 or cpu\n",
        "!bash icevision_install.sh cuda11"
      ]
    },
    {
      "cell_type": "code",
      "execution_count": 2,
      "metadata": {
        "colab": {
          "base_uri": "https://localhost:8080/",
          "height": 273
        },
        "id": "wmCYagQLtl1K",
        "outputId": "5aac870d-de43-460a-eb7c-53a5353cead8"
      },
      "outputs": [
        {
          "output_type": "stream",
          "name": "stdout",
          "text": [
            "Looking in indexes: https://pypi.org/simple, https://us-python.pkg.dev/colab-wheels/public/simple/\n",
            "Collecting pillow==8.2.0\n",
            "  Downloading Pillow-8.2.0-cp37-cp37m-manylinux1_x86_64.whl (3.0 MB)\n",
            "\u001b[K     |████████████████████████████████| 3.0 MB 30.6 MB/s \n",
            "\u001b[?25hInstalling collected packages: pillow\n",
            "  Attempting uninstall: pillow\n",
            "    Found existing installation: Pillow 8.4.0\n",
            "    Uninstalling Pillow-8.4.0:\n",
            "      Successfully uninstalled Pillow-8.4.0\n",
            "Successfully installed pillow-8.2.0\n"
          ]
        },
        {
          "output_type": "display_data",
          "data": {
            "application/vnd.colab-display-data+json": {
              "pip_warning": {
                "packages": [
                  "PIL"
                ]
              }
            }
          },
          "metadata": {}
        }
      ],
      "source": [
        "!pip install pillow==8.2.0"
      ]
    },
    {
      "cell_type": "code",
      "execution_count": 1,
      "metadata": {
        "colab": {
          "base_uri": "https://localhost:8080/"
        },
        "id": "WNoHFFRouCVX",
        "outputId": "7b76cc42-0a0d-41fb-bac7-78bb3a15d686"
      },
      "outputs": [
        {
          "output_type": "execute_result",
          "data": {
            "text/plain": [
              "{'restart': True, 'status': 'ok'}"
            ]
          },
          "metadata": {},
          "execution_count": 1
        }
      ],
      "source": [
        "# Restart kernel after installation\n",
        "import IPython\n",
        "IPython.Application.instance().kernel.do_shutdown(True)"
      ]
    },
    {
      "cell_type": "code",
      "execution_count": 2,
      "metadata": {
        "id": "IPe_G13eHBDv"
      },
      "outputs": [],
      "source": [
        "from icevision.all import *\n",
        "from fastai.callback.wandb import *\n",
        "from fastai.callback.tracker import SaveModelCallback\n",
        "from pathlib import Path\n",
        "from google.colab import drive"
      ]
    },
    {
      "cell_type": "code",
      "execution_count": null,
      "metadata": {
        "id": "jHyjIQBcdpCk"
      },
      "outputs": [],
      "source": [
        "drive.mount('/content/drive')"
      ]
    },
    {
      "cell_type": "code",
      "execution_count": null,
      "metadata": {
        "id": "4yZvQE4BHHyJ"
      },
      "outputs": [],
      "source": [
        "path = Path('/content/drive/MyDrive/ULTIMO_DATASET/scale3/CL012/B3/')\n",
        "train_parser = parsers.COCOBBoxParser(annotations_filepath = path / \"Annotations/LAST_SWD_Train.json\", img_dir = path / \"B3_Train\")\n",
        "# valid_parser = parsers.COCOBBoxParser(annotations_filepath = path / \"Annotations/valid.json\", img_dir = path / \"Immagini_test\")\n",
        "valid_parser = parsers.COCOBBoxParser(annotations_filepath = path / \"Annotations/LAST_SWD_Test.json\", img_dir = path / \"B3_Test\")\n",
        "\n",
        "train_records, *_ = train_parser.parse(data_splitter=SingleSplitSplitter(), autofix=False)\n",
        "valid_records, *_ = valid_parser.parse(data_splitter=SingleSplitSplitter(), autofix=False)"
      ]
    },
    {
      "cell_type": "code",
      "execution_count": null,
      "metadata": {
        "id": "A0Sq16U6I9fi"
      },
      "outputs": [],
      "source": [
        "print(f'Mappate le classi del dataset:')\n",
        "print(train_parser.class_map)\n",
        "print(f'Numero di record buoni ====> TRAIN:{len(train_records)}, VALID:{len(valid_records)}')"
      ]
    },
    {
      "cell_type": "code",
      "execution_count": null,
      "metadata": {
        "id": "AHxOqEEZmD-k"
      },
      "outputs": [],
      "source": [
        "# train_records.get_by_record_id(record_id=611)"
      ]
    },
    {
      "cell_type": "code",
      "execution_count": null,
      "metadata": {
        "id": "1uoAMCEAJG4y"
      },
      "outputs": [],
      "source": [
        "# Transforms: DATA AUGMENTATION.\n",
        "# size is set to 384 because EfficientDet requires its inputs to be divisible by 128\n",
        "image_size = 768\n",
        "toFloat = tfms.A.ToFloat(max_value=255.0, always_apply=False, p=1.0)\n",
        "\n",
        "# train_tfms = tfms.A.Adapter([*tfms.A.aug_tfms(size=image_size, presize=1024), tfms.A.Normalize()])\n",
        "# valid_tfms = tfms.A.Adapter([*tfms.A.resize_and_pad(image_size), tfms.A.Normalize()])\n",
        "\n",
        "\n",
        "train_tfms = tfms.A.Adapter([*tfms.A.resize_and_pad(image_size),  toFloat])\n",
        "valid_tfms = tfms.A.Adapter([*tfms.A.resize_and_pad(image_size),  toFloat])"
      ]
    },
    {
      "cell_type": "code",
      "execution_count": null,
      "metadata": {
        "id": "ngdr9G3YZX_L"
      },
      "outputs": [],
      "source": [
        "# image_size = 768\n",
        "FLIP = [tfms.A.Flip(always_apply=False, p=0.5),\n",
        "tfms.A.HorizontalFlip(always_apply=False, p=0.5)]\n",
        "CLAHE = tfms.A.CLAHE(always_apply=False, p=0.05, clip_limit=(1, 4),\n",
        "tile_grid_size=(8, 8))\n",
        "Equalize = tfms.A.Equalize(always_apply=False, p=0.05, mode='pil',\n",
        "by_channels=True)\n",
        "RandomBrightnessContrast =tfms.A.RandomBrightnessContrast(always_apply=False, p=0.25,\n",
        "brightness_limit=(-0.05, 0.05), contrast_limit=(-0.05, 0.05),\n",
        "brightness_by_max=True)\n",
        "Rotate = tfms.A.Rotate(always_apply=False, p=0.33, limit=(-25, 25),\n",
        "interpolation=0, border_mode=0, value=(0, 0, 0), mask_value=None)\n",
        "Blur = tfms.A.Blur(always_apply=False, p=0.1, blur_limit=(3, 5))\n",
        "toFloat = tfms.A.ToFloat(max_value=255.0, always_apply=False, p=1.0)\n",
        "\n",
        "\n",
        "train_tfms = tfms.A.Adapter([*tfms.A.resize_and_pad(image_size),Equalize,FLIP[0],FLIP[1],CLAHE,RandomBrightnessContrast,Rotate,toFloat])\n",
        "valid_tfms = tfms.A.Adapter([*tfms.A.resize_and_pad(image_size),tfms.A.ToFloat(max_value=255.0,\n",
        "always_apply=False, p=1.0)])"
      ]
    },
    {
      "cell_type": "code",
      "execution_count": null,
      "metadata": {
        "id": "oWrQyQKvJMB3"
      },
      "outputs": [],
      "source": [
        "# Datasets\n",
        "train_ds = Dataset(train_records, train_tfms)\n",
        "valid_ds = Dataset(valid_records, valid_tfms)"
      ]
    },
    {
      "cell_type": "code",
      "execution_count": null,
      "metadata": {
        "colab": {
          "background_save": true
        },
        "id": "ohPGHoQSenJ6"
      },
      "outputs": [],
      "source": [
        "import numpy as np\n",
        "\n",
        "def My_denormalize(img, mean=None, std=None, max_pixel_value=255):\n",
        "  return np.around(img * max_pixel_value).astype(np.uint8)\n",
        "\n",
        "# Show an element of the train_ds with augmentation transformations applied\n",
        "idx = np.random.randint(low=0, high=500)\n",
        "print('idx:',idx)\n",
        "samples = [train_ds[idx] for _ in range(10)]\n",
        "show_samples(samples, ncols=5, denormalize_fn=My_denormalize)\n",
        "# No data augmentation applied, at least for now.\n",
        "record = train_ds[idx].as_dict()\n",
        "img = record['common']['img']\n",
        "print('indicator:',img.mean())\n",
        "# plt.imshow(img)"
      ]
    },
    {
      "cell_type": "code",
      "execution_count": null,
      "metadata": {
        "id": "yIg4ePJTJRtE"
      },
      "outputs": [],
      "source": [
        "# # Show an element of the train_ds with augmentation transformations applied\n",
        "# samples = [train_ds[0] for _ in range(3)]\n",
        "# show_samples(samples, ncols=3)\n",
        "# # No data augmentation applied, at least for now."
      ]
    },
    {
      "cell_type": "code",
      "execution_count": null,
      "metadata": {
        "id": "Yt4iq8sSK83K"
      },
      "outputs": [],
      "source": [
        "# backbone.__dict__"
      ]
    },
    {
      "cell_type": "code",
      "execution_count": 7,
      "metadata": {
        "colab": {
          "base_uri": "https://localhost:8080/"
        },
        "id": "Pf3F66ohJ02T",
        "outputId": "66a17abd-e85f-4743-ae7b-7d9e628d6b3d",
        "collapsed": true
      },
      "outputs": [
        {
          "output_type": "execute_result",
          "data": {
            "text/plain": [
              "(<module 'icevision.models.mmdet.models.mask_rcnn' from '/usr/local/lib/python3.7/dist-packages/icevision/models/mmdet/models/mask_rcnn/__init__.py'>,\n",
              " <icevision.models.mmdet.models.mask_rcnn.backbones.resnet_fpn.MaskRCNNMMDetBackboneConfig at 0x7f43aafcdbd0>,\n",
              " {})"
            ]
          },
          "metadata": {},
          "execution_count": 7
        }
      ],
      "source": [
        "# Just change the value of selection to try another model\n",
        "\n",
        "selection = 15\n",
        "extra_args = {}\n",
        "\n",
        "if selection == 0:\n",
        "  model_type = models.mmdet.vfnet\n",
        "  backbone = model_type.backbones.resnet50_fpn_mstrain_2x\n",
        "\n",
        "if selection == 1:\n",
        "  model_type = models.mmdet.retinanet\n",
        "  backbone = model_type.backbones.resnet50_fpn_1x\n",
        "  # extra_args['cfg_options'] = { \n",
        "  #   'model.bbox_head.loss_bbox.loss_weight': 2,\n",
        "  #   'model.bbox_head.loss_cls.loss_weight': 0.8,\n",
        "  #    }\n",
        "\n",
        "if selection == 2:\n",
        "  model_type = models.mmdet.faster_rcnn\n",
        "  backbone = model_type.backbones.resnet101_fpn_2x\n",
        "  # extra_args['cfg_options'] = { \n",
        "  #   'model.roi_head.bbox_head.loss_bbox.loss_weight': 2,\n",
        "  #   'model.roi_head.bbox_head.loss_cls.loss_weight': 0.8,\n",
        "  #    }\n",
        "\n",
        "if selection == 3:\n",
        "  model_type = models.mmdet.ssd\n",
        "  backbone = model_type.backbones.ssd300\n",
        "\n",
        "if selection == 4:\n",
        "  model_type = models.mmdet.yolox\n",
        "  backbone = model_type.backbones.yolox_s_8x8\n",
        "\n",
        "if selection == 5:\n",
        "  model_type = models.mmdet.yolof\n",
        "  backbone = model_type.backbones.yolof_r50_c5_8x8_1x_coco\n",
        "\n",
        "if selection == 6:\n",
        "  model_type = models.mmdet.detr\n",
        "  backbone = model_type.backbones.r50_8x2_150e_coco\n",
        "\n",
        "if selection == 7:\n",
        "  model_type = models.mmdet.deformable_detr\n",
        "  backbone = model_type.backbones.twostage_refine_r50_16x2_50e_coco\n",
        "\n",
        "if selection == 8:\n",
        "  model_type = models.mmdet.fsaf\n",
        "  backbone = model_type.backbones.x101_64x4d_fpn_1x_coco\n",
        "\n",
        "if selection == 9:\n",
        "  model_type = models.mmdet.sabl\n",
        "  backbone = model_type.backbones.r101_fpn_gn_2x_ms_640_800_coco\n",
        "\n",
        "if selection == 10:\n",
        "  model_type = models.mmdet.centripetalnet\n",
        "  backbone = model_type.backbones.hourglass104_mstest_16x6_210e_coco\n",
        "\n",
        "if selection == 11:\n",
        "  # The Retinanet model is also implemented in the torchvision library\n",
        "  model_type = models.torchvision.retinanet\n",
        "  backbone = model_type.backbones.resnet50_fpn\n",
        "\n",
        "if selection == 12:\n",
        "  model_type = models.ross.efficientdet\n",
        "  backbone = model_type.backbones.tf_lite0\n",
        "  # The efficientdet model requires an img_size parameter\n",
        "  extra_args['img_size'] = image_size\n",
        "\n",
        "if selection == 13:\n",
        "  model_type = models.ultralytics.yolov5\n",
        "  backbone = model_type.backbones.small\n",
        "  # The yolov5 model requires an img_size parameter\n",
        "  extra_args['img_size'] = image_size\n",
        "\n",
        "if selection == 14:\n",
        "  model_type = models.ultralytics.yolov5\n",
        "  backbone = model_type.backbones.small\n",
        "  # The yolov5 model requires an img_size parameter\n",
        "  extra_args['img_size'] = image_size\n",
        "\n",
        "if selection == 15:\n",
        "    model_type = models.mmdet.mask_rcnn\n",
        "    backbone = model_type.backbones.resnet50_fpn_1x\n",
        "\n",
        "if selection == 16:\n",
        "    model_type = models.mmdet.mask_rcnn\n",
        "    backbone = model_type.backbones.mask_rcnn_swin_t_p4_w7_fpn_1x_coco\n",
        "\n",
        "if selection == 17:\n",
        "    model_type = models.mmdet.yolact\n",
        "    backbone = model_type.backbones.r101_1x8_coco\n",
        "    \n",
        "model_type, backbone, extra_args"
      ]
    },
    {
      "cell_type": "code",
      "execution_count": null,
      "metadata": {
        "id": "L_pmDyNILUBp"
      },
      "outputs": [],
      "source": [
        "# Instantiate the model\n",
        "model = model_type.model(backbone=backbone(pretrained=True), num_classes=len(train_parser.class_map), **extra_args) "
      ]
    },
    {
      "cell_type": "markdown",
      "metadata": {
        "id": "a1wc1orlfuQe"
      },
      "source": [
        "# CONFIG:\n",
        "Questi parametri si possono cambiare mettendoli come extra_args del modello, come fatto nella celle di selezione modello."
      ]
    },
    {
      "cell_type": "code",
      "execution_count": null,
      "metadata": {
        "colab": {
          "background_save": true
        },
        "id": "VJRvjHbP-aSH"
      },
      "outputs": [],
      "source": [
        "model.cfg.__dict__"
      ]
    },
    {
      "cell_type": "code",
      "execution_count": null,
      "metadata": {
        "colab": {
          "background_save": true
        },
        "id": "RZ2hQ_kZLWmk"
      },
      "outputs": [],
      "source": [
        "# Data Loaders\n",
        "train_dl = model_type.train_dl(train_ds, batch_size=2, num_workers=2, shuffle=True)\n",
        "valid_dl = model_type.valid_dl(valid_ds, batch_size=2, num_workers=2, shuffle=False)"
      ]
    },
    {
      "cell_type": "code",
      "execution_count": null,
      "metadata": {
        "colab": {
          "background_save": true
        },
        "id": "tY7Li857L4SX"
      },
      "outputs": [],
      "source": [
        "# show batch\n",
        "model_type.show_batch(first(valid_dl), ncols=2, denormalize_fn=My_denormalize)"
      ]
    },
    {
      "cell_type": "code",
      "execution_count": null,
      "metadata": {
        "colab": {
          "background_save": true
        },
        "id": "W6Sn7mhOL6hW"
      },
      "outputs": [],
      "source": [
        "# Se il modello è di object detection lascerò OD=True, viceverse se fa segmentazione userò OD=False\n",
        "OD = True\n",
        "if OD:\n",
        "    metrics = [COCOMetric(metric_type=COCOMetricType.bbox, print_summary=True)]\n",
        "else:\n",
        "    metrics = [COCOMetric(metric_type=COCOMetricType.mask, print_summary=True)"
      ]
    },
    {
      "cell_type": "markdown",
      "metadata": {
        "id": "v4z3EX1sNafW"
      },
      "source": [
        "# Training using fastai"
      ]
    },
    {
      "cell_type": "code",
      "execution_count": null,
      "metadata": {
        "colab": {
          "background_save": true,
          "referenced_widgets": [
            "10fccd43a23c4207ba023c7b4defcb87"
          ]
        },
        "id": "fGAEGvoKGuIA",
        "outputId": "e95fd3b2-1156-4ae9-db04-acfc6e5284d0"
      },
      "outputs": [
        {
          "data": {
            "text/html": [
              "Finishing last run (ID:2gy2ww0y) before initializing another..."
            ],
            "text/plain": [
              "<IPython.core.display.HTML object>"
            ]
          },
          "metadata": {},
          "output_type": "display_data"
        },
        {
          "data": {
            "text/html": [
              "Waiting for W&B process to finish... <strong style=\"color:green\">(success).</strong>"
            ],
            "text/plain": [
              "<IPython.core.display.HTML object>"
            ]
          },
          "metadata": {},
          "output_type": "display_data"
        },
        {
          "data": {
            "application/vnd.jupyter.widget-view+json": {
              "model_id": "10fccd43a23c4207ba023c7b4defcb87",
              "version_major": 2,
              "version_minor": 0
            },
            "text/plain": [
              "VBox(children=(Label(value='0.001 MB of 0.001 MB uploaded (0.000 MB deduped)\\r'), FloatProgress(value=1.0, max…"
            ]
          },
          "metadata": {},
          "output_type": "display_data"
        },
        {
          "data": {
            "text/html": [
              "Synced <strong style=\"color:#cdcd00\">faster_config_cascade_data_augmented_ULTIMO_DATASET_B3_BAND_SCALE3</strong>: <a href=\"https://wandb.ai/claudio_esposito/ScieOttiche/runs/2gy2ww0y\" target=\"_blank\">https://wandb.ai/claudio_esposito/ScieOttiche/runs/2gy2ww0y</a><br/>Synced 4 W&B file(s), 0 media file(s), 0 artifact file(s) and 0 other file(s)"
            ],
            "text/plain": [
              "<IPython.core.display.HTML object>"
            ]
          },
          "metadata": {},
          "output_type": "display_data"
        },
        {
          "data": {
            "text/html": [
              "Find logs at: <code>./wandb/run-20220630_125214-2gy2ww0y/logs</code>"
            ],
            "text/plain": [
              "<IPython.core.display.HTML object>"
            ]
          },
          "metadata": {},
          "output_type": "display_data"
        },
        {
          "data": {
            "text/html": [
              "Successfully finished last run (ID:2gy2ww0y). Initializing new run:<br/>"
            ],
            "text/plain": [
              "<IPython.core.display.HTML object>"
            ]
          },
          "metadata": {},
          "output_type": "display_data"
        },
        {
          "data": {
            "text/html": [
              "Tracking run with wandb version 0.12.20"
            ],
            "text/plain": [
              "<IPython.core.display.HTML object>"
            ]
          },
          "metadata": {},
          "output_type": "display_data"
        },
        {
          "data": {
            "text/html": [
              "Run data is saved locally in <code>/content/wandb/run-20220630_125220-10vj0cv8</code>"
            ],
            "text/plain": [
              "<IPython.core.display.HTML object>"
            ]
          },
          "metadata": {},
          "output_type": "display_data"
        },
        {
          "data": {
            "text/html": [
              "Syncing run <strong><a href=\"https://wandb.ai/claudio_esposito/ScieOttiche/runs/10vj0cv8\" target=\"_blank\">faster_config_cascade_data_augmented_ULTIMO_DATASET_B3_BAND_SCALE3</a></strong> to <a href=\"https://wandb.ai/claudio_esposito/ScieOttiche\" target=\"_blank\">Weights & Biases</a> (<a href=\"https://wandb.me/run\" target=\"_blank\">docs</a>)<br/>"
            ],
            "text/plain": [
              "<IPython.core.display.HTML object>"
            ]
          },
          "metadata": {},
          "output_type": "display_data"
        },
        {
          "data": {
            "text/html": [
              "<button onClick=\"this.nextSibling.style.display='block';this.style.display='none';\">Display W&B run</button><iframe src=\"https://wandb.ai/claudio_esposito/ScieOttiche/runs/10vj0cv8?jupyter=true\" style=\"border:none;width:100%;height:420px;display:none;\"></iframe>"
            ],
            "text/plain": [
              "<wandb.sdk.wandb_run.Run at 0x7fb90944b350>"
            ]
          },
          "execution_count": null,
          "metadata": {},
          "output_type": "execute_result"
        }
      ],
      "source": [
        "# 4Claudio: cambia la variabile name con i nomi dei modelli che stai usando\n",
        "wandb.init(project=\"ScieOttiche\", name=\"centripetal_net_second_run_data_augmented_ULTIMO_DATASET_B3_BAND_SCALE3\", reinit=True)"
      ]
    },
    {
      "cell_type": "code",
      "execution_count": null,
      "metadata": {
        "colab": {
          "background_save": true
        },
        "id": "ZIN366sGMAWb"
      },
      "outputs": [],
      "source": [
        "learn = model_type.fastai.learner(dls=[train_dl, valid_dl], model=model, metrics=metrics, cbs=[WandbCallback(), SaveModelCallback()])"
      ]
    },
    {
      "cell_type": "code",
      "execution_count": null,
      "metadata": {
        "id": "b3eczIVyMEsJ"
      },
      "outputs": [],
      "source": [
        "learn.lr_find()\n",
        "\n",
        "# For Sparse-RCNN, use lower `end_lr`\n",
        "# learn.lr_find(end_lr=0.005)"
      ]
    },
    {
      "cell_type": "code",
      "execution_count": null,
      "metadata": {
        "colab": {
          "background_save": true
        },
        "id": "wixXVG9tNRtG"
      },
      "outputs": [],
      "source": [
        "learn.fine_tune(20, 0.0010, freeze_epochs=5)"
      ]
    },
    {
      "cell_type": "code",
      "execution_count": null,
      "metadata": {
        "id": "3zjiEoN4BOMQ"
      },
      "outputs": [],
      "source": [
        "# class LightModel(model_type.lightning.ModelAdapter):\n",
        "#     def configure_optimizers(self):\n",
        "#         return SGD(self.parameters(), lr=1e-4)\n",
        "\n",
        "# light_model = LightModel(model, metrics=metrics)\n",
        "\n",
        "\n",
        "# trainer = pl.Trainer(max_epochs=20, gpus=1)\n",
        "# trainer.fit(light_model, train_dl, valid_dl)"
      ]
    },
    {
      "cell_type": "code",
      "execution_count": null,
      "metadata": {
        "id": "GggqnQ38O74W"
      },
      "outputs": [],
      "source": [
        "infer_dl = model_type.infer_dl(valid_ds, batch_size=8, shuffle=False)\n",
        "preds = model_type.predict_from_dl(model, infer_dl, keep_images=True)"
      ]
    },
    {
      "cell_type": "code",
      "execution_count": null,
      "metadata": {
        "id": "Sr0ZI4iQPHJG"
      },
      "outputs": [],
      "source": [
        "model_type.show_results(model, valid_ds, detection_threshold=.5, num_samples=8)"
      ]
    },
    {
      "cell_type": "code",
      "execution_count": null,
      "metadata": {
        "id": "t31K-JhFQgcU"
      },
      "outputs": [],
      "source": [
        "samples_plus_losses, preds, losses_stats = model_type.interp.plot_top_losses(model=model, dataset=valid_ds, sort_by=\"loss_total\", n_samples=4)"
      ]
    },
    {
      "cell_type": "code",
      "execution_count": null,
      "metadata": {
        "colab": {
          "background_save": true
        },
        "id": "RHNYuRFQO8Ri"
      },
      "outputs": [],
      "source": [
        "n = 15\n",
        "show_preds(preds=preds[:n], figsize=(18,10*n))"
      ]
    },
    {
      "cell_type": "code",
      "execution_count": null,
      "metadata": {
        "id": "zOf2wItBKwD2"
      },
      "outputs": [],
      "source": [
        "from icevision.models.inference_sahi import IceSahiModel\n",
        "\n",
        "sahimodel = IceSahiModel(model_type=model_type, model=model, class_map=trainParser.class_map, tfms=valid_tfms, confidence_threshold=0.1)\n",
        "\n",
        "pred = sahimodel.get_sliced_prediction(\n",
        "                \"/content/drive/MyDrive/DATASET/data/Immagini_test/112.png\",\n",
        "                keep_sahi_format=False,\n",
        "                return_img=True,\n",
        "                slice_height = 700,\n",
        "                slice_width = 700,\n",
        "                overlap_height_ratio = 0.2,\n",
        "                overlap_width_ratio = 0.2,\n",
        "            )\n"
      ]
    },
    {
      "cell_type": "code",
      "execution_count": null,
      "metadata": {
        "id": "2uDIZi07Q20c"
      },
      "outputs": [],
      "source": [
        "pred[\"img\"]"
      ]
    },
    {
      "cell_type": "code",
      "execution_count": null,
      "metadata": {
        "id": "skQoG7R6VNLX"
      },
      "outputs": [],
      "source": [
        "img = PIL.Image.open(\"/content/drive/MyDrive/DATASET/data/Immagini_test/112.png\")\n",
        "pred_dict  = model_type.end2end_detect(img, valid_tfms, model, class_map=class_map, detection_threshold=0.5)"
      ]
    }
  ],
  "metadata": {
    "accelerator": "GPU",
    "colab": {
      "collapsed_sections": [],
      "name": "ICEVISION_v2_rdp.ipynb",
      "provenance": [],
      "include_colab_link": true
    },
    "kernelspec": {
      "display_name": "Python 3",
      "name": "python3"
    },
    "language_info": {
      "name": "python"
    },
    "widgets": {
      "application/vnd.jupyter.widget-state+json": {}
    }
  },
  "nbformat": 4,
  "nbformat_minor": 0
}